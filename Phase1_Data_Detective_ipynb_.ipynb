{
  "nbformat": 4,
  "nbformat_minor": 0,
  "metadata": {
    "colab": {
      "provenance": [],
      "authorship_tag": "ABX9TyMWVtNsvlqSU0MO84we59Xx",
      "include_colab_link": true
    },
    "kernelspec": {
      "name": "python3",
      "display_name": "Python 3"
    },
    "language_info": {
      "name": "python"
    }
  },
  "cells": [
    {
      "cell_type": "markdown",
      "metadata": {
        "id": "view-in-github",
        "colab_type": "text"
      },
      "source": [
        "<a href=\"https://colab.research.google.com/github/VirendraT11/Data-Detective-Smart-Data-Quality-Analyzer-Transformer/blob/main/Phase1_Data_Detective_ipynb_.ipynb\" target=\"_parent\"><img src=\"https://colab.research.google.com/assets/colab-badge.svg\" alt=\"Open In Colab\"/></a>"
      ]
    },
    {
      "cell_type": "code",
      "execution_count": null,
      "metadata": {
        "id": "UP42XUyUk87i"
      },
      "outputs": [],
      "source": [
        "# Phase 1: Data Exploration with Pandas\n",
        "# Project: Data Detective - Smart Data Analyzer\n",
        "# Dataset: Titanic Dataset (Public)\n",
        "import pandas as pd"
      ]
    },
    {
      "cell_type": "code",
      "source": [
        "url = \"https://raw.githubusercontent.com/datasciencedojo/datasets/master/titanic.csv\"\n",
        "df = pd.read_csv(url)"
      ],
      "metadata": {
        "id": "HPQl107ylpxT"
      },
      "execution_count": null,
      "outputs": []
    },
    {
      "cell_type": "code",
      "source": [
        "print(\"Basic Dataset Info\")\n",
        "print(f\"Shape (rows, columns): {df.shape}\")\n",
        "print(\"\\nColumn Names:\",list(df.columns))\n",
        "print(\"\\nData Types:\\n\", df.dtypes)\n",
        "print(\"\\nMemory Usage and Null Counts:\")\n",
        "print(df.info())"
      ],
      "metadata": {
        "colab": {
          "base_uri": "https://localhost:8080/"
        },
        "id": "jYZlEHpjl9XL",
        "outputId": "5ff833f9-cefe-47d3-89cd-87db9a92e4d9"
      },
      "execution_count": null,
      "outputs": [
        {
          "output_type": "stream",
          "name": "stdout",
          "text": [
            "Basic Dataset Info\n",
            "Shape (rows, columns): (891, 12)\n",
            "\n",
            "Column Names: ['PassengerId', 'Survived', 'Pclass', 'Name', 'Sex', 'Age', 'SibSp', 'Parch', 'Ticket', 'Fare', 'Cabin', 'Embarked']\n",
            "\n",
            "Data Types:\n",
            " PassengerId      int64\n",
            "Survived         int64\n",
            "Pclass           int64\n",
            "Name            object\n",
            "Sex             object\n",
            "Age            float64\n",
            "SibSp            int64\n",
            "Parch            int64\n",
            "Ticket          object\n",
            "Fare           float64\n",
            "Cabin           object\n",
            "Embarked        object\n",
            "dtype: object\n",
            "\n",
            "Memory Usage and Null Counts:\n",
            "<class 'pandas.core.frame.DataFrame'>\n",
            "RangeIndex: 891 entries, 0 to 890\n",
            "Data columns (total 12 columns):\n",
            " #   Column       Non-Null Count  Dtype  \n",
            "---  ------       --------------  -----  \n",
            " 0   PassengerId  891 non-null    int64  \n",
            " 1   Survived     891 non-null    int64  \n",
            " 2   Pclass       891 non-null    int64  \n",
            " 3   Name         891 non-null    object \n",
            " 4   Sex          891 non-null    object \n",
            " 5   Age          714 non-null    float64\n",
            " 6   SibSp        891 non-null    int64  \n",
            " 7   Parch        891 non-null    int64  \n",
            " 8   Ticket       891 non-null    object \n",
            " 9   Fare         891 non-null    float64\n",
            " 10  Cabin        204 non-null    object \n",
            " 11  Embarked     889 non-null    object \n",
            "dtypes: float64(2), int64(5), object(5)\n",
            "memory usage: 83.7+ KB\n",
            "None\n"
          ]
        }
      ]
    },
    {
      "cell_type": "code",
      "source": [
        "print(\"First 5 Rows:\")\n",
        "print(df.head())\n",
        "print(\"Last 5 Rows:\")\n",
        "print(df.tail())"
      ],
      "metadata": {
        "colab": {
          "base_uri": "https://localhost:8080/"
        },
        "id": "7yLOAvZLnXRW",
        "outputId": "f4235d1e-31b9-4b5f-d5a2-20c934403c94"
      },
      "execution_count": null,
      "outputs": [
        {
          "output_type": "stream",
          "name": "stdout",
          "text": [
            "First 5 Rows:\n",
            "   PassengerId  Survived  Pclass  \\\n",
            "0            1         0       3   \n",
            "1            2         1       1   \n",
            "2            3         1       3   \n",
            "3            4         1       1   \n",
            "4            5         0       3   \n",
            "\n",
            "                                                Name     Sex   Age  SibSp  \\\n",
            "0                            Braund, Mr. Owen Harris    male  22.0      1   \n",
            "1  Cumings, Mrs. John Bradley (Florence Briggs Th...  female  38.0      1   \n",
            "2                             Heikkinen, Miss. Laina  female  26.0      0   \n",
            "3       Futrelle, Mrs. Jacques Heath (Lily May Peel)  female  35.0      1   \n",
            "4                           Allen, Mr. William Henry    male  35.0      0   \n",
            "\n",
            "   Parch            Ticket     Fare Cabin Embarked  \n",
            "0      0         A/5 21171   7.2500   NaN        S  \n",
            "1      0          PC 17599  71.2833   C85        C  \n",
            "2      0  STON/O2. 3101282   7.9250   NaN        S  \n",
            "3      0            113803  53.1000  C123        S  \n",
            "4      0            373450   8.0500   NaN        S  \n",
            "Last 5 Rows:\n",
            "     PassengerId  Survived  Pclass                                      Name  \\\n",
            "886          887         0       2                     Montvila, Rev. Juozas   \n",
            "887          888         1       1              Graham, Miss. Margaret Edith   \n",
            "888          889         0       3  Johnston, Miss. Catherine Helen \"Carrie\"   \n",
            "889          890         1       1                     Behr, Mr. Karl Howell   \n",
            "890          891         0       3                       Dooley, Mr. Patrick   \n",
            "\n",
            "        Sex   Age  SibSp  Parch      Ticket   Fare Cabin Embarked  \n",
            "886    male  27.0      0      0      211536  13.00   NaN        S  \n",
            "887  female  19.0      0      0      112053  30.00   B42        S  \n",
            "888  female   NaN      1      2  W./C. 6607  23.45   NaN        S  \n",
            "889    male  26.0      0      0      111369  30.00  C148        C  \n",
            "890    male  32.0      0      0      370376   7.75   NaN        Q  \n"
          ]
        }
      ]
    },
    {
      "cell_type": "code",
      "source": [
        "print(\"Numerical Summary:\")\n",
        "print(df.describe())"
      ],
      "metadata": {
        "colab": {
          "base_uri": "https://localhost:8080/"
        },
        "id": "PQB2hHKYnnPE",
        "outputId": "2937387d-08b2-4c0b-c6c7-3998a3de716a"
      },
      "execution_count": null,
      "outputs": [
        {
          "output_type": "stream",
          "name": "stdout",
          "text": [
            "Numerical Summary:\n",
            "       PassengerId    Survived      Pclass         Age       SibSp  \\\n",
            "count   891.000000  891.000000  891.000000  714.000000  891.000000   \n",
            "mean    446.000000    0.383838    2.308642   29.699118    0.523008   \n",
            "std     257.353842    0.486592    0.836071   14.526497    1.102743   \n",
            "min       1.000000    0.000000    1.000000    0.420000    0.000000   \n",
            "25%     223.500000    0.000000    2.000000   20.125000    0.000000   \n",
            "50%     446.000000    0.000000    3.000000   28.000000    0.000000   \n",
            "75%     668.500000    1.000000    3.000000   38.000000    1.000000   \n",
            "max     891.000000    1.000000    3.000000   80.000000    8.000000   \n",
            "\n",
            "            Parch        Fare  \n",
            "count  891.000000  891.000000  \n",
            "mean     0.381594   32.204208  \n",
            "std      0.806057   49.693429  \n",
            "min      0.000000    0.000000  \n",
            "25%      0.000000    7.910400  \n",
            "50%      0.000000   14.454200  \n",
            "75%      0.000000   31.000000  \n",
            "max      6.000000  512.329200  \n"
          ]
        }
      ]
    },
    {
      "cell_type": "code",
      "source": [
        "print(\"Categorical Summary\")\n",
        "for col in df.select_dtypes(include=['object']).columns:\n",
        "    print(f\"\\nValue Counts for '{col}':\")\n",
        "    print(df[col].value_counts().head(10))"
      ],
      "metadata": {
        "colab": {
          "base_uri": "https://localhost:8080/"
        },
        "id": "w_j5LPthn0Dc",
        "outputId": "f8aca1c9-ec54-4762-f813-6302cf239726"
      },
      "execution_count": null,
      "outputs": [
        {
          "output_type": "stream",
          "name": "stdout",
          "text": [
            "Categorical Summary\n",
            "\n",
            "Value Counts for 'Name':\n",
            "Name\n",
            "Dooley, Mr. Patrick                                    1\n",
            "Braund, Mr. Owen Harris                                1\n",
            "Cumings, Mrs. John Bradley (Florence Briggs Thayer)    1\n",
            "Heikkinen, Miss. Laina                                 1\n",
            "Futrelle, Mrs. Jacques Heath (Lily May Peel)           1\n",
            "Allen, Mr. William Henry                               1\n",
            "Moran, Mr. James                                       1\n",
            "McCarthy, Mr. Timothy J                                1\n",
            "Palsson, Master. Gosta Leonard                         1\n",
            "Johnson, Mrs. Oscar W (Elisabeth Vilhelmina Berg)      1\n",
            "Name: count, dtype: int64\n",
            "\n",
            "Value Counts for 'Sex':\n",
            "Sex\n",
            "male      577\n",
            "female    314\n",
            "Name: count, dtype: int64\n",
            "\n",
            "Value Counts for 'Ticket':\n",
            "Ticket\n",
            "347082          7\n",
            "1601            7\n",
            "CA. 2343        7\n",
            "3101295         6\n",
            "CA 2144         6\n",
            "347088          6\n",
            "382652          5\n",
            "S.O.C. 14879    5\n",
            "113760          4\n",
            "19950           4\n",
            "Name: count, dtype: int64\n",
            "\n",
            "Value Counts for 'Cabin':\n",
            "Cabin\n",
            "G6             4\n",
            "C23 C25 C27    4\n",
            "B96 B98        4\n",
            "F2             3\n",
            "D              3\n",
            "E101           3\n",
            "C22 C26        3\n",
            "F33            3\n",
            "C83            2\n",
            "C123           2\n",
            "Name: count, dtype: int64\n",
            "\n",
            "Value Counts for 'Embarked':\n",
            "Embarked\n",
            "S    644\n",
            "C    168\n",
            "Q     77\n",
            "Name: count, dtype: int64\n"
          ]
        }
      ]
    },
    {
      "cell_type": "code",
      "source": [
        "with open(\"phase1_summary.txt\", \"w\") as f:\n",
        "    f.write(\"===== Dataset Shape =====\\n\")\n",
        "    f.write(str(df.shape) + \"\\n\\n\")\n",
        "\n",
        "    f.write(\"===== Columns =====\\n\")\n",
        "    f.write(str(list(df.columns)) + \"\\n\\n\")\n",
        "\n",
        "    f.write(\"===== Data Types =====\\n\")\n",
        "    f.write(str(df.dtypes) + \"\\n\\n\")\n",
        "\n",
        "    f.write(\"===== Numeric Summary =====\\n\")\n",
        "    f.write(str(df.describe()) + \"\\n\\n\")\n",
        "\n",
        "    f.write(\"===== Categorical Summary =====\\n\")\n",
        "    for col in df.select_dtypes(include=['object']).columns:\n",
        "        f.write(f\"\\nValue Counts for '{col}':\\n\")\n",
        "        f.write(str(df[col].value_counts().head(10)) + \"\\n\")\n",
        "\n",
        "print(\"\\n✅ Summary report saved as 'phase1_summary.txt'\")"
      ],
      "metadata": {
        "colab": {
          "base_uri": "https://localhost:8080/"
        },
        "id": "DmUIk48nouBK",
        "outputId": "340a25b2-48cd-4ef3-a90c-495ca33bafa7"
      },
      "execution_count": null,
      "outputs": [
        {
          "output_type": "stream",
          "name": "stdout",
          "text": [
            "\n",
            "✅ Summary report saved as 'phase1_summary.txt'\n"
          ]
        }
      ]
    },
    {
      "cell_type": "code",
      "source": [
        "import pandas as pd\n",
        "url = \"https://raw.githubusercontent.com/datasciencedojo/datasets/master/titanic.csv\"\n",
        "df = pd.read_csv(url)\n",
        "print(\"Missing values Count per column\")\n",
        "missing_counts = df.isna().sum()\n",
        "print(missing_counts)"
      ],
      "metadata": {
        "colab": {
          "base_uri": "https://localhost:8080/"
        },
        "id": "pHzkFJuWBEis",
        "outputId": "df1878cd-8391-4412-e837-9485291fd50f"
      },
      "execution_count": 4,
      "outputs": [
        {
          "output_type": "stream",
          "name": "stdout",
          "text": [
            "Missing values Count per column\n",
            "PassengerId      0\n",
            "Survived         0\n",
            "Pclass           0\n",
            "Name             0\n",
            "Sex              0\n",
            "Age            177\n",
            "SibSp            0\n",
            "Parch            0\n",
            "Ticket           0\n",
            "Fare             0\n",
            "Cabin          687\n",
            "Embarked         2\n",
            "dtype: int64\n"
          ]
        }
      ]
    },
    {
      "cell_type": "code",
      "source": [
        "df['Age'] = df['Age'].fillna(df['Age'].mean())\n",
        "df['Embarked'] = df['Embarked'].fillna(df['Embarked'].mode()[0])"
      ],
      "metadata": {
        "id": "iIHmEDBMBMbE"
      },
      "execution_count": 5,
      "outputs": []
    },
    {
      "cell_type": "code",
      "source": [
        "print(\"\\n Missing values Count per column after filling\")\n",
        "missing_counts = df.isna().sum()\n",
        "print(missing_counts)"
      ],
      "metadata": {
        "colab": {
          "base_uri": "https://localhost:8080/"
        },
        "id": "XGzF1tIzCZ5q",
        "outputId": "94c8c5a1-620d-4835-e91b-f2ea76dc0f27"
      },
      "execution_count": 6,
      "outputs": [
        {
          "output_type": "stream",
          "name": "stdout",
          "text": [
            "\n",
            " Missing values Count per column after filling\n",
            "PassengerId      0\n",
            "Survived         0\n",
            "Pclass           0\n",
            "Name             0\n",
            "Sex              0\n",
            "Age              0\n",
            "SibSp            0\n",
            "Parch            0\n",
            "Ticket           0\n",
            "Fare             0\n",
            "Cabin          687\n",
            "Embarked         0\n",
            "dtype: int64\n"
          ]
        }
      ]
    },
    {
      "cell_type": "code",
      "source": [
        "df['Cabin'] = df['Cabin'].fillna(method='ffill')"
      ],
      "metadata": {
        "colab": {
          "base_uri": "https://localhost:8080/"
        },
        "id": "30tgq8OECm-X",
        "outputId": "c85bf79d-0b0b-4c3c-ad76-53fd52a718c1"
      },
      "execution_count": 7,
      "outputs": [
        {
          "output_type": "stream",
          "name": "stderr",
          "text": [
            "/tmp/ipython-input-183619305.py:1: FutureWarning: Series.fillna with 'method' is deprecated and will raise in a future version. Use obj.ffill() or obj.bfill() instead.\n",
            "  df['Cabin'] = df['Cabin'].fillna(method='ffill')\n"
          ]
        }
      ]
    },
    {
      "cell_type": "code",
      "source": [
        "df['Cabin'] = df['Cabin'].ffill()\n",
        "\n",
        "print(\"\\n Missing values Count per column after filling Cabin with ffill\")\n",
        "missing_counts = df.isna().sum()\n",
        "print(missing_counts)"
      ],
      "metadata": {
        "colab": {
          "base_uri": "https://localhost:8080/"
        },
        "id": "Rk8DMYy8C5ZV",
        "outputId": "dc85185e-9e87-484e-b6ca-3e9b3097eb20"
      },
      "execution_count": 8,
      "outputs": [
        {
          "output_type": "stream",
          "name": "stdout",
          "text": [
            "\n",
            " Missing values Count per column after filling Cabin with ffill\n",
            "PassengerId    0\n",
            "Survived       0\n",
            "Pclass         0\n",
            "Name           0\n",
            "Sex            0\n",
            "Age            0\n",
            "SibSp          0\n",
            "Parch          0\n",
            "Ticket         0\n",
            "Fare           0\n",
            "Cabin          1\n",
            "Embarked       0\n",
            "dtype: int64\n"
          ]
        }
      ]
    },
    {
      "cell_type": "code",
      "source": [
        "df_dropped = df.dropna(subset=['Cabin'])\n",
        "print(f\"\\nShape after dropping rows with missing values in 'Cabin': {df_dropped.shape}\")"
      ],
      "metadata": {
        "colab": {
          "base_uri": "https://localhost:8080/"
        },
        "id": "SBzppajKDO15",
        "outputId": "c0bac989-b657-4621-fd79-34f8039ddf66"
      },
      "execution_count": 9,
      "outputs": [
        {
          "output_type": "stream",
          "name": "stdout",
          "text": [
            "\n",
            "Shape after dropping rows with missing values in 'Cabin': (890, 12)\n"
          ]
        }
      ]
    },
    {
      "cell_type": "code",
      "source": [
        "duplicate_count = df.duplicated().sum()\n",
        "print(f\"\\nNumber of duplicate rows before removal: {duplicate_count}\")\n",
        "\n",
        "df = df.drop_duplicates()\n",
        "\n",
        "duplicate_count = df.duplicated().sum()\n",
        "print(f\"\\nNumber of duplicate rows after removal: {duplicate_count}\")"
      ],
      "metadata": {
        "colab": {
          "base_uri": "https://localhost:8080/"
        },
        "id": "EAvnm6KGDj_L",
        "outputId": "0468000a-6b85-4d17-df49-0eb6c5d639dc"
      },
      "execution_count": 10,
      "outputs": [
        {
          "output_type": "stream",
          "name": "stdout",
          "text": [
            "\n",
            "Number of duplicate rows before removal: 0\n",
            "\n",
            "Number of duplicate rows after removal: 0\n"
          ]
        }
      ]
    },
    {
      "cell_type": "code",
      "source": [
        "df['PassengerId'] = df['PassengerId'].astype(str)\n",
        "df['Fare'] = df['Fare'].round().astype(int)\n",
        "df['Name'] = df['Name'].astype(str)\n",
        "df['Sex'] = df['Sex'].astype('category')\n",
        "df['Embarked'] = df['Embarked'].astype('category')\n",
        "print(\"\\nData types fixed and optimized\")"
      ],
      "metadata": {
        "colab": {
          "base_uri": "https://localhost:8080/"
        },
        "id": "GY-lOfEgD83g",
        "outputId": "c0e9e936-0d2e-495d-d8dc-790036dab491"
      },
      "execution_count": 11,
      "outputs": [
        {
          "output_type": "stream",
          "name": "stdout",
          "text": [
            "\n",
            "Data types fixed and optimized\n"
          ]
        }
      ]
    },
    {
      "cell_type": "code",
      "source": [
        "df.to_csv('phase2_cleaned_titanic.csv', index=False)\n",
        "print(\"\\n💾 Cleaned dataset saved as 'phase2_cleaned_titanic.csv'\")"
      ],
      "metadata": {
        "colab": {
          "base_uri": "https://localhost:8080/"
        },
        "id": "79Il50MeFSuY",
        "outputId": "97d5c1b3-8ebc-424b-c5ba-2aab5f1ad40f"
      },
      "execution_count": 12,
      "outputs": [
        {
          "output_type": "stream",
          "name": "stdout",
          "text": [
            "\n",
            "💾 Cleaned dataset saved as 'phase2_cleaned_titanic.csv'\n"
          ]
        }
      ]
    }
  ]
}